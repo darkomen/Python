{
 "cells": [
  {
   "cell_type": "markdown",
   "metadata": {},
   "source": [
    "#Chuletario ipython"
   ]
  },
  {
   "cell_type": "code",
   "execution_count": null,
   "metadata": {
    "collapsed": true
   },
   "outputs": [],
   "source": []
  },
  {
   "cell_type": "markdown",
   "metadata": {},
   "source": [
    "##Modulos necesarios"
   ]
  },
  {
   "cell_type": "markdown",
   "metadata": {},
   "source": [
    "```Python\n",
    "#Importamos las librerías utilizadas\n",
    "import numpy as np\n",
    "import pandas as pd\n",
    "import seaborn as sns\n",
    "#Mostramos las versiones usadas de cada librerías\n",
    "print (\"Numpy v{}\".format(np.__version__))\n",
    "print (\"Pandas v{}\".format(pd.__version__))\n",
    "print (\"Seaborn v{}\".format(sns.__version__))\n",
    "#Mostramos todos los gráficos en el notebook\n",
    "%pylab inline\n",
    "```"
   ]
  },
  {
   "cell_type": "markdown",
   "metadata": {},
   "source": [
    "##Respuesta en frecuencia"
   ]
  },
  {
   "cell_type": "markdown",
   "metadata": {},
   "source": [
    "```Python\n",
    "from scipy import signal\n",
    "num = [25.9459 ,0.00015733 ,0.00000000818174]\n",
    "den = [1,0,0]\n",
    "tf = signal.lti(num,den)\n",
    "w, mag, phase = signal.bode(tf)\n",
    "tf = signal.lti(num,den)\n",
    "w, mag, phase = signal.bode(tf)\n",
    "fig, (ax1, ax2) = plt.subplots(2, 1, figsize=(6, 6))\n",
    "ax1.semilogx(w, mag) # Eje x logarítmico\n",
    "ax2.semilogx(w, phase) # Eje x logarítmico\n",
    "w, H = signal.freqresp(tf)\n",
    "fig, (ax1, ax2) = plt.subplots(1, 2, figsize=(10, 10))\n",
    "ax1.plot(H.real, H.imag)\n",
    "ax1.plot(H.real, -H.imag)\n",
    "ax2.plot(tf.zeros.real, tf.zeros.imag, 'o')\n",
    "ax2.plot(tf.poles.real, tf.poles.imag, 'x')\n",
    "t, y = signal.step2(tf) # Respuesta a escalón unitario\n",
    "plt.plot(t, 2250 * y) # Equivalente a una entrada de altura 2250\n",
    "```"
   ]
  },
  {
   "cell_type": "markdown",
   "metadata": {},
   "source": [
    "##Obtención de un valor en concreto de un DataFrame de pandas"
   ]
  },
  {
   "cell_type": "markdown",
   "metadata": {},
   "source": [
    "```Python\n",
    "Tmax = datos_it1.describe().loc['Columna1','Columna2'] #Valor de la Temperatura maxima en el ensayo\n",
    "```"
   ]
  },
  {
   "cell_type": "markdown",
   "metadata": {
    "collapsed": true
   },
   "source": [
    "##Representación gráfica en varios ejes y lineas horizontales"
   ]
  },
  {
   "cell_type": "markdown",
   "metadata": {},
   "source": [
    "```Python\n",
    "datos[columns].plot(secondary_y=['RPM TRAC'],figsize=(10,5),title='Modelo matemático del sistema').hlines([th_d ,th_u],0,2000,colors='r')\n",
    "```"
   ]
  },
  {
   "cell_type": "code",
   "execution_count": null,
   "metadata": {
    "collapsed": true
   },
   "outputs": [],
   "source": []
  }
 ],
 "metadata": {
  "kernelspec": {
   "display_name": "Python 3",
   "language": "python",
   "name": "python3"
  },
  "language_info": {
   "codemirror_mode": {
    "name": "ipython",
    "version": 3
   },
   "file_extension": ".py",
   "mimetype": "text/x-python",
   "name": "python",
   "nbconvert_exporter": "python",
   "pygments_lexer": "ipython3",
   "version": "3.4.2"
  }
 },
 "nbformat": 4,
 "nbformat_minor": 0
}
